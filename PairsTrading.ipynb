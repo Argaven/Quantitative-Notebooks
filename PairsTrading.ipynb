{
 "cells": [
  {
   "cell_type": "markdown",
   "metadata": {},
   "source": [
    "This is an illustrative example of a Pairs Trading involving Coca-Cola (KO) and PepsiCo (PEP), despite being fundamentaly different companies, for example, KO has half the sales of PEP but has a higher Net Income however they both manufacture, distribute and sell soft beverages.\n",
    "\n",
    "But the market already knows past information if any new information is released, specially if affects both companies like for example new regulations affecting the beverage market, its expected that it will affect both companies in the same way therefore the price of each should move in the same direction.\n",
    "\n",
    "This strategy falls on the expectation that when prices depart from their historic equilibrium (rolling correlation), the one that valued less in the last week will catchup during the trade session, being the positions open at open price and closed at close price (slippage can be factored in but its not accounted on this version of the script), if the position doesn't return profit its hold for another day and then liquidated at close T+1 no matter its net return."
   ]
  },
  {
   "cell_type": "code",
   "execution_count": null,
   "metadata": {},
   "outputs": [],
   "source": [
    "# author: Leonardo Filipe\n",
    "# email: contact@leonardofilipe.com\n",
    "# website: https://www.leonardofilipe.com\n",
    "import io\n",
    "import requests\n",
    "import numpy as np\n",
    "import pandas as pd\n",
    "import matplotlib.pyplot as plt\n",
    "\n",
    "plt.style.use('seaborn')\n",
    "\n",
    "def getdata(tickers,start,end,frequency):\n",
    "    OHLC = {}\n",
    "    cookie = ''\n",
    "    crumb = ''\n",
    "    res = requests.get('https://finance.yahoo.com/quote/SPY/history')\n",
    "    cookie = res.cookies['B']\n",
    "    pattern = re.compile('.*\"CrumbStore\":\\{\"crumb\":\"(?P<crumb>[^\"]+)\"\\}')\n",
    "    for line in res.text.splitlines():\n",
    "        m = pattern.match(line)\n",
    "        if m is not None:\n",
    "            crumb = m.groupdict()['crumb']\n",
    "    for ticker in tickers:\n",
    "        url_str = \"https://query1.finance.yahoo.com/v7/finance/download/%s\"\n",
    "        url_str += \"?period1=%s&period2=%s&interval=%s&events=history&crumb=%s\"\n",
    "        url = url_str % (ticker, start, end, frequency, crumb)\n",
    "        res = requests.get(url, cookies={'B': cookie}).text\n",
    "        OHLC[ticker] = pd.read_csv(io.StringIO(res), index_col=0,\n",
    "                                   error_bad_lines=False).replace('null', np.nan).dropna()\n",
    "        OHLC[ticker].index = pd.to_datetime(OHLC[ticker].index)\n",
    "        OHLC[ticker] = OHLC[ticker].apply(pd.to_numeric)\n",
    "    return OHLC\n",
    "\n",
    "tickers = ['%5EGSPC','000001.SS']\n",
    "\n",
    "data = None\n",
    "while data is None:\n",
    "    try:\n",
    "        data = getdata(tickers,'946610000','1538960000','1d')\n",
    "    except:\n",
    "         pass\n",
    "\n",
    "PEP = data['PEP']\n",
    "KO = data['KO']"
   ]
  },
  {
   "cell_type": "code",
   "execution_count": null,
   "metadata": {},
   "outputs": [],
   "source": [
    "PEP.tail()"
   ]
  },
  {
   "cell_type": "code",
   "execution_count": null,
   "metadata": {},
   "outputs": [],
   "source": [
    "ReturnPEP = PEP['Close']/PEP['Close'].shift(1)-1\n",
    "BuyHoldPEP = PEP['Adj Close']/float(PEP['Adj Close'][:1])-1\n",
    "\n",
    "ReturnKO = KO['Close']/KO['Close'].shift(1)-1\n",
    "BuyHoldKO = KO['Adj Close']/float(KO['Adj Close'][:1])-1\n",
    "\n",
    "ReturnBoth = (ReturnPEP+ReturnKO)/2\n",
    "BuyHoldBoth = (BuyHoldPEP*0.5+BuyHoldKO*0.5).fillna(method='ffill')"
   ]
  },
  {
   "cell_type": "code",
   "execution_count": null,
   "metadata": {
    "scrolled": true
   },
   "outputs": [],
   "source": [
    "pairs = pd.DataFrame({'TPEP':(PEP['Close']/PEP['Close'].shift(5)-1).shift(1),\n",
    "                      'TKO':(KO['Close']/KO['Close'].shift(5)-1).shift(1)})\n",
    "\n",
    "pairs['Target'] = pairs.min(axis=1)\n",
    "\n",
    "pairs['PEP'] = PEP['Close']/PEP['Open']-1\n",
    "pairs['PEP'][pairs['PEP'] < 0]  = PEP['Close'].shift(-1)/PEP['Open']-1\n",
    "\n",
    "pairs['KO'] = KO['Close']/KO['Open']-1\n",
    "pairs['KO'][pairs['KO'] < 0] = KO['Close'].shift(-1)/KO['Open']-1\n",
    "\n",
    "pairs['Correlation'] = ((PEP['Close']/PEP['Close'].shift(7)-1).rolling(window=13)\n",
    "                        .corr((KO['Close']/KO['Close'].shift(7)-1))).shift(1)\n",
    "pairs = pairs.dropna()\n",
    "\n",
    "signalPEP = pairs['PEP'].loc[pairs['Target'].isin(pairs['TPEP'])][pairs['Correlation'] < 0.9]\n",
    "signalKO = pairs['KO'].loc[pairs['Target'].isin(pairs['TKO'])][pairs['Correlation'] < 0.9]\n",
    "\n",
    "returns = signalPEP.add(signalKO,fill_value=0)\n",
    "cumulret = returns.cumsum()"
   ]
  },
  {
   "cell_type": "code",
   "execution_count": null,
   "metadata": {},
   "outputs": [],
   "source": [
    "fig, ax = plt.subplots(figsize=(16,6))\n",
    "hist, bins = np.histogram(returns, bins=50)\n",
    "width = 0.7 * (bins[1] - bins[0])\n",
    "center = (bins[:-1] + bins[1:]) / 2\n",
    "ax.bar(center, hist, align='center', width=width)\n",
    "plt.show()\n",
    "print('Mean return =',round((returns.mean())*100,2),\"%\")\n",
    "print('Standard deviaton =',round((returns.std())*100,2),\"%\")\n",
    "print(\"=========================\")\n",
    "print('Worst return =',round((min(returns))*100,2),\"%\")\n",
    "print('Best return =',round((max(returns))*100,2),\"%\")\n",
    "print(\"=========================\")\n",
    "print('Lower quantile =',round((returns.quantile(q=0.25))*100,2),\"%\")\n",
    "print('Median return =',round((returns.quantile(q=0.5))*100,2),\"%\")\n",
    "print('Upper quantile =',round((returns.quantile(q=0.75))*100,2),\"%\")"
   ]
  },
  {
   "cell_type": "code",
   "execution_count": null,
   "metadata": {},
   "outputs": [],
   "source": [
    "maxdd = round(max(np.maximum.accumulate(cumulret)-cumulret)*100,2)\n",
    "\n",
    "mask = returns<0\n",
    "diffs = np.diff(mask.astype(int))\n",
    "start_mask = np.append(True,diffs==1) \n",
    "mask1 = mask & ~(start_mask & np.append(diffs==-1,True))\n",
    "id = (start_mask & mask1).cumsum()\n",
    "out = np.bincount(id[mask1]-1,returns[mask1])\n",
    "badd = round(max(-out)*100,2)\n",
    "\n",
    "executionrate = round((len(returns)/len(ReturnBoth))*100,2)\n",
    "\n",
    "spositive = returns[returns > 0]\n",
    "snegative = -returns[returns < 0]\n",
    "winrate = round((len(spositive)/(len(spositive)+len(snegative)))*100,2)\n",
    "\n",
    "beta = round(returns.corr(ReturnBoth),2)\n",
    "\n",
    "sharpe = round((float(cumulret[-1:]))/cumulret.std(),2)\n",
    "\n",
    "tret = round((float(cumulret[-1:]))*100,2)"
   ]
  },
  {
   "cell_type": "code",
   "execution_count": null,
   "metadata": {},
   "outputs": [],
   "source": [
    "plt.figure(figsize=(16,6))\n",
    "plt.plot(BuyHoldBoth*100, label='Buy & Hold 50/50 KO&PEP')\n",
    "plt.plot(cumulret*100, label='Pairs Trading', color='coral')\n",
    "plt.xlabel('Time')\n",
    "plt.ylabel('Returns (in %)')\n",
    "plt.margins(x=0.005,y=0.02)\n",
    "plt.axhline(y=0, xmin=0, xmax=1, linestyle='--', color='k')\n",
    "plt.legend()\n",
    "plt.show()\n",
    "print(\"Cumulative Return = \",tret,\"%\")\n",
    "print(\"=========================\")\n",
    "print(\"Execution Rate = \",executionrate,\"%\")\n",
    "print(\"Win Rate = \",winrate,\"%\")\n",
    "print(\"=========================\")\n",
    "print(\"Maximum Loss = \",maxdd,\"%\")\n",
    "print(\"Maximum Consecutive Loss = \",badd,\"%\")\n",
    "print(\"=========================\")\n",
    "print(\"Beta = \",beta)\n",
    "print(\"Sharpe = \",sharpe)"
   ]
  },
  {
   "cell_type": "code",
   "execution_count": null,
   "metadata": {},
   "outputs": [],
   "source": []
  }
 ],
 "metadata": {
  "kernelspec": {
   "display_name": "Python 3",
   "language": "python",
   "name": "python3"
  },
  "language_info": {
   "codemirror_mode": {
    "name": "ipython",
    "version": 3
   },
   "file_extension": ".py",
   "mimetype": "text/x-python",
   "name": "python",
   "nbconvert_exporter": "python",
   "pygments_lexer": "ipython3",
   "version": "3.7.0"
  }
 },
 "nbformat": 4,
 "nbformat_minor": 2
}
