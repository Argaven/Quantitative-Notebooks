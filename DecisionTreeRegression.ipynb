{
 "cells": [
  {
   "cell_type": "code",
   "execution_count": 1,
   "metadata": {},
   "outputs": [
    {
     "data": {
      "text/html": [
       "<div>\n",
       "<style scoped>\n",
       "    .dataframe tbody tr th:only-of-type {\n",
       "        vertical-align: middle;\n",
       "    }\n",
       "\n",
       "    .dataframe tbody tr th {\n",
       "        vertical-align: top;\n",
       "    }\n",
       "\n",
       "    .dataframe thead th {\n",
       "        text-align: right;\n",
       "    }\n",
       "</style>\n",
       "<table border=\"1\" class=\"dataframe\">\n",
       "  <thead>\n",
       "    <tr style=\"text-align: right;\">\n",
       "      <th></th>\n",
       "      <th>Open</th>\n",
       "      <th>High</th>\n",
       "      <th>Low</th>\n",
       "      <th>Close</th>\n",
       "      <th>Adj Close</th>\n",
       "    </tr>\n",
       "    <tr>\n",
       "      <th>Date</th>\n",
       "      <th></th>\n",
       "      <th></th>\n",
       "      <th></th>\n",
       "      <th></th>\n",
       "      <th></th>\n",
       "    </tr>\n",
       "  </thead>\n",
       "  <tbody>\n",
       "    <tr>\n",
       "      <th>2019-02-20</th>\n",
       "      <td>115.750000</td>\n",
       "      <td>116.639999</td>\n",
       "      <td>115.410004</td>\n",
       "      <td>115.830002</td>\n",
       "      <td>115.830002</td>\n",
       "    </tr>\n",
       "    <tr>\n",
       "      <th>2019-02-21</th>\n",
       "      <td>115.500000</td>\n",
       "      <td>116.930000</td>\n",
       "      <td>115.470001</td>\n",
       "      <td>116.099998</td>\n",
       "      <td>116.099998</td>\n",
       "    </tr>\n",
       "    <tr>\n",
       "      <th>2019-02-22</th>\n",
       "      <td>116.110001</td>\n",
       "      <td>116.769997</td>\n",
       "      <td>115.589996</td>\n",
       "      <td>116.760002</td>\n",
       "      <td>116.760002</td>\n",
       "    </tr>\n",
       "    <tr>\n",
       "      <th>2019-02-25</th>\n",
       "      <td>117.169998</td>\n",
       "      <td>117.300003</td>\n",
       "      <td>115.709999</td>\n",
       "      <td>116.059998</td>\n",
       "      <td>116.059998</td>\n",
       "    </tr>\n",
       "    <tr>\n",
       "      <th>2019-02-26</th>\n",
       "      <td>116.370003</td>\n",
       "      <td>116.500000</td>\n",
       "      <td>115.430000</td>\n",
       "      <td>115.970001</td>\n",
       "      <td>115.970001</td>\n",
       "    </tr>\n",
       "  </tbody>\n",
       "</table>\n",
       "</div>"
      ],
      "text/plain": [
       "                  Open        High         Low       Close   Adj Close\n",
       "Date                                                                  \n",
       "2019-02-20  115.750000  116.639999  115.410004  115.830002  115.830002\n",
       "2019-02-21  115.500000  116.930000  115.470001  116.099998  116.099998\n",
       "2019-02-22  116.110001  116.769997  115.589996  116.760002  116.760002\n",
       "2019-02-25  117.169998  117.300003  115.709999  116.059998  116.059998\n",
       "2019-02-26  116.370003  116.500000  115.430000  115.970001  115.970001"
      ]
     },
     "execution_count": 1,
     "metadata": {},
     "output_type": "execute_result"
    }
   ],
   "source": [
    "# python 3.6.8+\n",
    "# https://www.leonardofilipe.com\n",
    "# contact at leonardofilipe.com\n",
    "\n",
    "# For yahoo finance\n",
    "import io\n",
    "import re\n",
    "import requests\n",
    "\n",
    "# The usual suspects\n",
    "import numpy             as np\n",
    "import pandas            as pd\n",
    "import matplotlib.pyplot as plt\n",
    "\n",
    "# Tree models and data pre-processing\n",
    "from numpy               import vstack, hstack\n",
    "from sklearn             import tree\n",
    "\n",
    "# Fancy graphics\n",
    "plt.style.use('seaborn')\n",
    "\n",
    "# Getting Yahoo finance data\n",
    "def getdata(tickers,start,end,frequency):\n",
    "    OHLC = {}\n",
    "    cookie = ''\n",
    "    crumb = ''\n",
    "    res = requests.get('https://finance.yahoo.com/quote/SPY/history')\n",
    "    cookie = res.cookies['B']\n",
    "    pattern = re.compile('.*\"CrumbStore\":\\{\"crumb\":\"(?P<crumb>[^\"]+)\"\\}')\n",
    "    for line in res.text.splitlines():\n",
    "        m = pattern.match(line)\n",
    "        if m is not None:\n",
    "            crumb = m.groupdict()['crumb']\n",
    "    for ticker in tickers:\n",
    "        url_str = \"https://query1.finance.yahoo.com/v7/finance/download/%s\"\n",
    "        url_str += \"?period1=%s&period2=%s&interval=%s&events=history&crumb=%s\"\n",
    "        url = url_str % (ticker, start, end, frequency, crumb)\n",
    "        res = requests.get(url, cookies={'B': cookie}).text\n",
    "        OHLC[ticker] = pd.read_csv(io.StringIO(res), index_col=0,\n",
    "                                   error_bad_lines=False).replace('null', np.nan).dropna()\n",
    "        OHLC[ticker].index = pd.to_datetime(OHLC[ticker].index)\n",
    "        OHLC[ticker] = OHLC[ticker].apply(pd.to_numeric)\n",
    "    return OHLC\n",
    "\n",
    "def ATR(df, n):\n",
    "    df = df.reset_index()\n",
    "    i = 0\n",
    "    TR_l = [0]\n",
    "    while i < df.index[-1]:\n",
    "        TR = max(df.loc[i + 1, 'High'], df.loc[i, 'Close']) - min(df.loc[i + 1, 'Low'], df.loc[i, 'Close'])\n",
    "        TR_l.append(TR)\n",
    "        i = i + 1\n",
    "    return pd.Series(TR_l).ewm(span=n, min_periods=n).mean()\n",
    "\n",
    "# Assets under consideration\n",
    "tickers = ['PEP','KO']\n",
    "\n",
    "data = None\n",
    "while data is None:\n",
    "    try:\n",
    "        data = getdata(tickers,'946684800','1551225600','1d')\n",
    "    except:\n",
    "         pass\n",
    "\n",
    "KO = data['KO']\n",
    "KO = KO.drop('Volume',axis=1)\n",
    "PEP = data['PEP']\n",
    "PEP = PEP.drop('Volume',axis=1)\n",
    "PEP.tail()"
   ]
  },
  {
   "cell_type": "code",
   "execution_count": 2,
   "metadata": {
    "scrolled": true
   },
   "outputs": [],
   "source": [
    "variables = pd.DataFrame({'TPEP':(PEP['Close']/PEP['Close'].shift(7)-1).shift(1),\n",
    "                      'TKO':(KO['Close']/KO['Close'].shift(6)-1).shift(1)})\n",
    "\n",
    "variables['Target'] = variables.min(axis=1)\n",
    "\n",
    "variables['APEP'] = PEP['Open']\n",
    "variables['AKO'] = KO['Open']\n",
    "\n",
    "variables['CPEP'] = PEP['Close']\n",
    "variables['CKO'] = KO['Close']\n",
    "\n",
    "variables['IsPEP'] = variables['Target'].isin(variables['TPEP'])\n",
    "\n",
    "variables['Sell'] = np.where(variables['IsPEP'],\n",
    "                             variables['CPEP'],\n",
    "                             variables['CKO'])\n",
    "\n",
    "variables['Buy'] = np.where(variables['IsPEP'],\n",
    "                            variables['APEP'],\n",
    "                            variables['AKO'])\n",
    "\n",
    "variables = variables.reset_index().drop('Date',axis=1)\n",
    "\n",
    "variables['ATR'] = ATR(PEP,40)\n",
    "\n",
    "variables = variables.dropna()\n",
    "variables = variables.reset_index().drop('index',axis=1)\n",
    "\n",
    "features  = ['IsPEP','AKO','ATR','APEP']"
   ]
  },
  {
   "cell_type": "code",
   "execution_count": 3,
   "metadata": {},
   "outputs": [],
   "source": [
    "training = 38\n",
    "testing = 3\n",
    "\n",
    "cumret, trade, worstt = [], [], []\n",
    "\n",
    "for ii in range(0, len(variables)-(training+testing), testing):\n",
    "    X, y = [], []\n",
    "\n",
    "    iam  = ii+training\n",
    "    lazy = ii+training+testing\n",
    "\n",
    "    # Training a Decision Tree Regressor with the last 38 days\n",
    "    for i in range(ii, iam):\n",
    "        X.append([variables.iloc[i][var] for var in features])\n",
    "        y.append(variables.iloc[i].Sell)\n",
    "\n",
    "    model = tree.DecisionTreeRegressor(max_depth=19, min_samples_leaf=3, min_samples_split=16)\n",
    "    model.fit(vstack(X), hstack(y))\n",
    "\n",
    "    XX = []\n",
    "\n",
    "    # Testing the model out-of-sample, its used for the next 3 days\n",
    "    for i in range(iam, lazy):\n",
    "        XX.append([variables.iloc[i][var] for var in features])\n",
    "\n",
    "    results = pd.Series(model.predict(vstack(XX)),variables[iam:lazy].index)\n",
    "    popen = variables['Buy'][iam:lazy]\n",
    "    pclose = variables['Sell'][iam:lazy]\n",
    "\n",
    "    # We trade if the predicted close price is superior to the open price\n",
    "    trades = pd.Series(np.where(results > popen, pclose/popen-1, np.nan),variables[iam:lazy].index)\n",
    "\n",
    "    # Exporting some results\n",
    "    try:\n",
    "        worstt.append(np.min(trades))\n",
    "        trade.append(len(trades.dropna()))\n",
    "        cumret.append(float(trades.dropna().cumsum()[-1:]))\n",
    "    except:\n",
    "        0"
   ]
  },
  {
   "cell_type": "code",
   "execution_count": 4,
   "metadata": {},
   "outputs": [
    {
     "data": {
      "text/plain": [
       "count    1064.000000\n",
       "mean        0.002188\n",
       "std         0.017005\n",
       "min        -0.114342\n",
       "25%        -0.005862\n",
       "50%         0.002418\n",
       "75%         0.010243\n",
       "max         0.112341\n",
       "dtype: float64"
      ]
     },
     "execution_count": 4,
     "metadata": {},
     "output_type": "execute_result"
    }
   ],
   "source": [
    "returns = pd.Series(cumret)\n",
    "returns.describe() #out-of-sample 3days returns"
   ]
  },
  {
   "cell_type": "code",
   "execution_count": 5,
   "metadata": {},
   "outputs": [
    {
     "data": {
      "text/plain": [
       "0.46886214903947643"
      ]
     },
     "execution_count": 5,
     "metadata": {},
     "output_type": "execute_result"
    }
   ],
   "source": [
    "pd.Series(trade).mean()/testing #execution rate"
   ]
  },
  {
   "cell_type": "code",
   "execution_count": 6,
   "metadata": {},
   "outputs": [
    {
     "data": {
      "text/plain": [
       "count    1064.000000\n",
       "mean       -0.003536\n",
       "std         0.011458\n",
       "min        -0.089762\n",
       "25%        -0.009015\n",
       "50%        -0.003274\n",
       "75%         0.002220\n",
       "max         0.048673\n",
       "dtype: float64"
      ]
     },
     "execution_count": 6,
     "metadata": {},
     "output_type": "execute_result"
    }
   ],
   "source": [
    "pd.Series(worstt).dropna().describe() #worst 1day returns"
   ]
  },
  {
   "cell_type": "code",
   "execution_count": 7,
   "metadata": {},
   "outputs": [
    {
     "data": {
      "image/png": "[encoded data removed]",
      "text/plain": [
       "<Figure size 1152x432 with 1 Axes>"
      ]
     },
     "metadata": {
      "needs_background": "light"
     },
     "output_type": "display_data"
    }
   ],
   "source": [
    "plt.figure(figsize=(16,6))\n",
    "plt.plot((returns.cumsum())*100, label='Decision Tree Regressor', color='coral')\n",
    "plt.xlabel('Time')\n",
    "plt.ylabel('Returns (in %)')\n",
    "plt.margins(x=0.005,y=0.02)\n",
    "plt.axhline(y=0, xmin=0, xmax=1, linestyle='--', color='k')\n",
    "plt.legend()\n",
    "plt.show()"
   ]
  },
  {
   "cell_type": "code",
   "execution_count": 8,
   "metadata": {},
   "outputs": [
    {
     "data": {
      "text/plain": [
       "array([9.97414240e-01, 3.78414724e-04, 0.00000000e+00, 2.20734511e-03])"
      ]
     },
     "execution_count": 8,
     "metadata": {},
     "output_type": "execute_result"
    }
   ],
   "source": [
    "model.feature_importances_"
   ]
  }
 ],
 "metadata": {
  "kernelspec": {
   "display_name": "Python 3",
   "language": "python",
   "name": "python3"
  },
  "language_info": {
   "codemirror_mode": {
    "name": "ipython",
    "version": 3
   },
   "file_extension": ".py",
   "mimetype": "text/x-python",
   "name": "python",
   "nbconvert_exporter": "python",
   "pygments_lexer": "ipython3",
   "version": "3.6.8"
  }
 },
 "nbformat": 4,
 "nbformat_minor": 2
}
